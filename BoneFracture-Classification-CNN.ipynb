{
 "cells": [
  {
   "cell_type": "markdown",
   "id": "814df185",
   "metadata": {},
   "source": [
    "# Import Libraries"
   ]
  },
  {
   "cell_type": "code",
   "execution_count": 1,
   "id": "99a601ed",
   "metadata": {},
   "outputs": [],
   "source": [
    "import torchvision.transforms as transforms\n",
    "from torchvision.datasets import ImageFolder\n",
    "import torch\n",
    "from torch.utils.data import DataLoader\n",
    "import torch.nn as nn\n",
    "import torch.optim as optim"
   ]
  },
  {
   "cell_type": "markdown",
   "id": "4598ca5d",
   "metadata": {},
   "source": [
    "# Data loading and Preprocessing"
   ]
  },
  {
   "cell_type": "code",
   "execution_count": 2,
   "id": "ec59d97e",
   "metadata": {},
   "outputs": [],
   "source": [
    "\n",
    "# Define transforms for data preprocessing\n",
    "transform = transforms.Compose([\n",
    "    transforms.Grayscale(),  # Convert to grayscale\n",
    "    transforms.Resize((128, 128)),  # Resize to 128x128\n",
    "    transforms.ToTensor(),\n",
    "    transforms.Normalize(mean=[0.5], std=[0.5])  # Normalize\n",
    "])\n",
    "\n",
    "\n",
    "# Define the path to the root folder of your labeled image dataset\n",
    "root_folder = 'D:\\\\ezi_project\\\\X-Ray project'\n",
    "\n",
    "# Create the ImageFolder dataset for the training set\n",
    "train_dataset = ImageFolder(root=root_folder + '/train', transform=transform)\n",
    "\n",
    "# Create the ImageFolder dataset for the testing set\n",
    "test_dataset = ImageFolder(root=root_folder + '/test', transform=transform)\n"
   ]
  },
  {
   "cell_type": "code",
   "execution_count": 3,
   "id": "af77873f",
   "metadata": {},
   "outputs": [],
   "source": [
    "\n",
    "# Define batch size for training and testing\n",
    "batch_size = 48\n",
    "\n",
    "# Create the train data loader\n",
    "train_loader = DataLoader(train_dataset, batch_size=batch_size, shuffle=True)\n",
    "\n",
    "# Create the test data loader\n",
    "test_loader = DataLoader(test_dataset, batch_size=batch_size, shuffle=False)\n"
   ]
  },
  {
   "cell_type": "markdown",
   "id": "d3e1be86",
   "metadata": {},
   "source": [
    "# Building model"
   ]
  },
  {
   "cell_type": "code",
   "execution_count": 4,
   "id": "faeddf29",
   "metadata": {},
   "outputs": [],
   "source": [
    "\n",
    "# Define the CNN model\n",
    "class BoneFractureCNN(nn.Module):\n",
    "    def __init__(self):\n",
    "        super(BoneFractureCNN, self).__init__()\n",
    "        \n",
    "        self.conv1 = nn.Conv2d(1, 16, kernel_size=3, stride=1, padding=1)\n",
    "        self.relu1 = nn.ReLU()\n",
    "        self.pool1 = nn.MaxPool2d(kernel_size=2)\n",
    "        \n",
    "        self.conv2 = nn.Conv2d(16, 32, kernel_size=3, stride=1, padding=1)\n",
    "        self.relu2 = nn.ReLU()\n",
    "        self.pool2 = nn.MaxPool2d(kernel_size=2)\n",
    "        \n",
    "        self.fc1 = nn.Linear(32 * 32 * 32, 128)\n",
    "        self.relu3 = nn.ReLU()\n",
    "        self.fc2 = nn.Linear(128, 2)  # 2 classes: fracture and non-fracture\n",
    "        \n",
    "    def forward(self, x):\n",
    "        x = self.conv1(x)\n",
    "        x = self.relu1(x)\n",
    "        x = self.pool1(x)\n",
    "        \n",
    "        x = self.conv2(x)\n",
    "        x = self.relu2(x)\n",
    "        x = self.pool2(x)\n",
    "        \n",
    "        x = x.view(x.size(0), -1)\n",
    "        \n",
    "        x = self.fc1(x)\n",
    "        x = self.relu3(x)\n",
    "        x = self.fc2(x)\n",
    "        \n",
    "        return x\n",
    "\n",
    "# Define hyperparameters\n",
    "learning_rate = 0.001\n",
    "num_epochs = 2\n",
    "\n",
    "# Instantiate the CNN model\n",
    "model = BoneFractureCNN()\n",
    "\n",
    "# Define loss function and optimizer\n",
    "error = nn.CrossEntropyLoss()\n",
    "optimizer = optim.Adam(model.parameters(), lr=learning_rate)\n",
    "\n"
   ]
  },
  {
   "cell_type": "markdown",
   "id": "eaacc0f6",
   "metadata": {},
   "source": [
    "# Training Model"
   ]
  },
  {
   "cell_type": "code",
   "execution_count": 5,
   "id": "53448d7c",
   "metadata": {},
   "outputs": [
    {
     "name": "stdout",
     "output_type": "stream",
     "text": [
      "Epoch [1/2], Step [10/185], Loss: 0.6710\n",
      "Epoch [1/2], Step [20/185], Loss: 0.6845\n",
      "Epoch [1/2], Step [30/185], Loss: 0.6812\n",
      "Epoch [1/2], Step [40/185], Loss: 0.6346\n",
      "Epoch [1/2], Step [50/185], Loss: 0.6509\n",
      "Epoch [1/2], Step [60/185], Loss: 0.5928\n",
      "Epoch [1/2], Step [70/185], Loss: 0.5586\n",
      "Epoch [1/2], Step [80/185], Loss: 0.5416\n",
      "Epoch [1/2], Step [90/185], Loss: 0.5733\n",
      "Epoch [1/2], Step [100/185], Loss: 0.5343\n",
      "Epoch [1/2], Step [110/185], Loss: 0.5508\n",
      "Epoch [1/2], Step [120/185], Loss: 0.5823\n",
      "Epoch [1/2], Step [130/185], Loss: 0.5701\n",
      "Epoch [1/2], Step [140/185], Loss: 0.4302\n",
      "Epoch [1/2], Step [150/185], Loss: 0.5834\n",
      "Epoch [1/2], Step [160/185], Loss: 0.5612\n",
      "Epoch [1/2], Step [170/185], Loss: 0.4966\n",
      "Epoch [1/2], Step [180/185], Loss: 0.5050\n",
      "Epoch [2/2], Step [10/185], Loss: 0.2831\n",
      "Epoch [2/2], Step [20/185], Loss: 0.3663\n",
      "Epoch [2/2], Step [30/185], Loss: 0.2714\n",
      "Epoch [2/2], Step [40/185], Loss: 0.4028\n",
      "Epoch [2/2], Step [50/185], Loss: 0.3588\n",
      "Epoch [2/2], Step [60/185], Loss: 0.2757\n",
      "Epoch [2/2], Step [70/185], Loss: 0.2707\n",
      "Epoch [2/2], Step [80/185], Loss: 0.2591\n",
      "Epoch [2/2], Step [90/185], Loss: 0.2495\n",
      "Epoch [2/2], Step [100/185], Loss: 0.2902\n",
      "Epoch [2/2], Step [110/185], Loss: 0.2806\n",
      "Epoch [2/2], Step [120/185], Loss: 0.2078\n",
      "Epoch [2/2], Step [130/185], Loss: 0.2853\n",
      "Epoch [2/2], Step [140/185], Loss: 0.2454\n",
      "Epoch [2/2], Step [150/185], Loss: 0.1843\n",
      "Epoch [2/2], Step [160/185], Loss: 0.1532\n",
      "Epoch [2/2], Step [170/185], Loss: 0.1686\n",
      "Epoch [2/2], Step [180/185], Loss: 0.1900\n"
     ]
    }
   ],
   "source": [
    "# Training loop\n",
    "total_step = len(train_loader)\n",
    "for epoch in range(num_epochs):\n",
    "    for i, (images, labels) in enumerate(train_loader):\n",
    "        images = images\n",
    "        labels = labels\n",
    "        \n",
    "        # Forward pass\n",
    "        outputs = model(images)\n",
    "        loss = error(outputs, labels)\n",
    "        \n",
    "        # Backward pass and optimization\n",
    "        optimizer.zero_grad()\n",
    "        loss.backward()\n",
    "        optimizer.step()\n",
    "        \n",
    "         # Print training progress\n",
    "        if (i+1) % 10 == 0:\n",
    "            print(f'Epoch [{epoch+1}/{num_epochs}], Step [{i+1}/{total_step}], Loss: {loss.item():.4f}')"
   ]
  },
  {
   "cell_type": "markdown",
   "id": "6d05611a",
   "metadata": {},
   "source": [
    "# Model Evaluation"
   ]
  },
  {
   "cell_type": "code",
   "execution_count": 6,
   "id": "51c1b795",
   "metadata": {},
   "outputs": [
    {
     "name": "stdout",
     "output_type": "stream",
     "text": [
      "Test Accuracy: 76.17%\n"
     ]
    }
   ],
   "source": [
    "\n",
    "model.eval()\n",
    "with torch.no_grad():\n",
    "    correct = 0\n",
    "    total = 0\n",
    "    \n",
    "    for images, labels in test_loader:\n",
    "        images = images\n",
    "        labels = labels\n",
    "        \n",
    "        outputs = model(images)\n",
    "        _,predicted = torch.max(outputs.data, 1)\n",
    "        \n",
    "        total += labels.size(0)\n",
    "        correct += (predicted == labels).sum().item()\n",
    "    \n",
    "    accuracy = 100 * correct / total\n",
    "    print(f'Test Accuracy: {accuracy:.2f}%')\n"
   ]
  },
  {
   "cell_type": "code",
   "execution_count": null,
   "id": "0b4e1e29",
   "metadata": {},
   "outputs": [],
   "source": [
    "\n"
   ]
  }
 ],
 "metadata": {
  "kernelspec": {
   "display_name": "Python 3 (ipykernel)",
   "language": "python",
   "name": "python3"
  },
  "language_info": {
   "codemirror_mode": {
    "name": "ipython",
    "version": 3
   },
   "file_extension": ".py",
   "mimetype": "text/x-python",
   "name": "python",
   "nbconvert_exporter": "python",
   "pygments_lexer": "ipython3",
   "version": "3.10.11"
  }
 },
 "nbformat": 4,
 "nbformat_minor": 5
}
